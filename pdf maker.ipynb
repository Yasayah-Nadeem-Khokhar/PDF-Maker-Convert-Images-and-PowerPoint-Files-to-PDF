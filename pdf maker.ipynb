{
 "cells": [
  {
   "cell_type": "markdown",
   "metadata": {},
   "source": [
    "# Convert Photo to PDF"
   ]
  },
  {
   "cell_type": "code",
   "execution_count": null,
   "metadata": {},
   "outputs": [],
   "source": [
    "from PIL import Image\n",
    "import os\n",
    "\n",
    "def convert_images_to_pdf(input_files, output_pdf):\n",
    "    images = []\n",
    "    \n",
    "    # If a single file is provided as input\n",
    "    if isinstance(input_files, str):\n",
    "        input_files = [input_files]\n",
    "\n",
    "    for file_path in input_files:\n",
    "        try:\n",
    "            img = Image.open(file_path)\n",
    "            # Convert the image to RGB mode for PDF compatibility\n",
    "            if img.mode != 'RGB':\n",
    "                img = img.convert('RGB')\n",
    "            images.append(img)\n",
    "        except Exception as e:\n",
    "            print(f\"Error processing {file_path}: {e}\")\n",
    "    \n",
    "    if not images:\n",
    "        print(\"No valid images to convert.\")\n",
    "        return\n",
    "\n",
    "    # Save as single PDF\n",
    "    images[0].save(output_pdf, save_all=True, append_images=images[1:])\n",
    "    print(f\"PDF created successfully: {output_pdf}\")\n",
    "\n",
    "# Example usage\n",
    "input_files = [\n",
    "    \"path\\file.jpg\",\n",
    "    \"path\\file.png\"  # Add more file paths here if needed\n",
    "]\n",
    "\n",
    "output_pdf_path = \"path\\file.pdf\"\n",
    "\n",
    "# Check if it's a single file or folder\n",
    "if len(input_files) == 1:\n",
    "    convert_images_to_pdf(input_files[0], output_pdf_path)\n",
    "else:\n",
    "    convert_images_to_pdf(input_files, output_pdf_path)\n"
   ]
  },
  {
   "cell_type": "markdown",
   "metadata": {},
   "source": [
    "___"
   ]
  },
  {
   "cell_type": "markdown",
   "metadata": {},
   "source": [
    "# Convert pptx to PDF"
   ]
  },
  {
   "cell_type": "code",
   "execution_count": null,
   "metadata": {},
   "outputs": [],
   "source": [
    "import os\n",
    "from comtypes import client\n",
    "from PyPDF2 import PdfMerger\n",
    "\n",
    "def convert_ppt_to_pdf(input_files):\n",
    "    if isinstance(input_files, str):\n",
    "        input_files = [input_files]\n",
    "\n",
    "    powerpoint = client.CreateObject(\"Powerpoint.Application\")\n",
    "    powerpoint.WindowState = 2  # Minimize PowerPoint\n",
    "\n",
    "    pdf_paths = []\n",
    "\n",
    "    for input_file in input_files:\n",
    "        try:\n",
    "            # Temporary PDF path in the same directory as the input file\n",
    "            pdf_path = os.path.splitext(input_file)[0] + \".pdf\"\n",
    "\n",
    "            presentation = powerpoint.Presentations.Open(input_file, WithWindow=False)\n",
    "            presentation.SaveAs(pdf_path, 32)  # Save as PDF\n",
    "            presentation.Close()\n",
    "\n",
    "            print(f\"Converted {input_file} to {pdf_path}\")\n",
    "            pdf_paths.append(pdf_path)\n",
    "        except Exception as e:\n",
    "            print(f\"Error converting {input_file}: {e}\")\n",
    "\n",
    "    powerpoint.Quit()\n",
    "    return pdf_paths\n",
    "\n",
    "def merge_pdfs(pdf_paths, merged_output_pdf):\n",
    "    merger = PdfMerger()\n",
    "    try:\n",
    "        for pdf_path in pdf_paths:\n",
    "            merger.append(pdf_path)\n",
    "        merger.write(merged_output_pdf)\n",
    "        merger.close()\n",
    "        print(f\"PDFs merged successfully into: {merged_output_pdf}\")\n",
    "    except Exception as e:\n",
    "        print(f\"Error merging PDFs: {e}\")\n",
    "\n",
    "def main():\n",
    "    input_files = [\n",
    "        r\"path\\file.ppt\",\n",
    "        r\"path\\file.pptx\"\n",
    "    ]\n",
    "    merged_output_pdf_path = \"path\\file.pdf\"\n",
    "\n",
    "    # Convert presentations to individual PDFs\n",
    "    pdf_paths = convert_ppt_to_pdf(input_files)\n",
    "\n",
    "    # Merge PDFs into one file\n",
    "    merge_pdfs(pdf_paths, merged_output_pdf_path)\n",
    "\n",
    "    # Cleanup temporary PDF files\n",
    "    for pdf_path in pdf_paths:\n",
    "        os.remove(pdf_path)\n",
    "        print(f\"Deleted temporary file: {pdf_path}\")\n",
    "\n",
    "if __name__ == \"__main__\":\n",
    "    main()\n"
   ]
  },
  {
   "cell_type": "code",
   "execution_count": null,
   "metadata": {},
   "outputs": [],
   "source": [
    "from PyPDF2 import PdfMerger\n",
    "\n",
    "def merge_pdfs(pdf_files, output_pdf):\n",
    "    merger = PdfMerger()\n",
    "    try:\n",
    "        for pdf_file in pdf_files:\n",
    "            merger.append(pdf_file)\n",
    "        merger.write(output_pdf)\n",
    "        merger.close()\n",
    "        print(f\"PDFs merged successfully into: {output_pdf}\")\n",
    "    except Exception as e:\n",
    "        print(f\"Error merging PDFs: {e}\")\n",
    "\n",
    "# Example usage\n",
    "pdf_files = [\n",
    "    r\"path\\file.pdf\",\n",
    "    r\"path\\file.pdf\"\n",
    "]\n",
    "output_pdf_path = \"path\\file.pdf\"\n",
    "\n",
    "merge_pdfs(pdf_files, output_pdf_path)\n"
   ]
  },
  {
   "cell_type": "markdown",
   "metadata": {},
   "source": [
    "___\n",
    "# **THE END @:-)**\n",
    "___\n",
    "___"
   ]
  }
 ],
 "metadata": {
  "kernelspec": {
   "display_name": "Python 3",
   "language": "python",
   "name": "python3"
  },
  "language_info": {
   "codemirror_mode": {
    "name": "ipython",
    "version": 3
   },
   "file_extension": ".py",
   "mimetype": "text/x-python",
   "name": "python",
   "nbconvert_exporter": "python",
   "pygments_lexer": "ipython3",
   "version": "3.13.0"
  }
 },
 "nbformat": 4,
 "nbformat_minor": 2
}
